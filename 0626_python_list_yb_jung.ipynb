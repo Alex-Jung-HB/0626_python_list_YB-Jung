{
  "nbformat": 4,
  "nbformat_minor": 0,
  "metadata": {
    "colab": {
      "provenance": [],
      "authorship_tag": "ABX9TyMVjbQEPjMwvcRjbSj47s5t",
      "include_colab_link": true
    },
    "kernelspec": {
      "name": "python3",
      "display_name": "Python 3"
    },
    "language_info": {
      "name": "python"
    }
  },
  "cells": [
    {
      "cell_type": "markdown",
      "metadata": {
        "id": "view-in-github",
        "colab_type": "text"
      },
      "source": [
        "<a href=\"https://colab.research.google.com/github/Alex-Jung-HB/0626_python_list_YB-Jung/blob/main/0626_python_list_yb_jung.ipynb\" target=\"_parent\"><img src=\"https://colab.research.google.com/assets/colab-badge.svg\" alt=\"Open In Colab\"/></a>"
      ]
    },
    {
      "cell_type": "code",
      "execution_count": null,
      "metadata": {
        "colab": {
          "base_uri": "https://localhost:8080/"
        },
        "id": "JdS_EZVb4FCW",
        "outputId": "3e7ce02f-dc5f-4ed4-b4ff-50b238822e8f"
      },
      "outputs": [
        {
          "output_type": "stream",
          "name": "stdout",
          "text": [
            "[20, 0, 0]\n"
          ]
        }
      ],
      "source": [
        "#차량 상태 변수 (Vehicle State)\n",
        "Driving_status = [20, 0, 0]  #[heading, pitch, yaw]\n",
        "print(Driving_status)"
      ]
    },
    {
      "cell_type": "code",
      "source": [
        "#제어 변수 (Control Variables)\n",
        "velocity = [\"velocity\", \"targe velocity\", \"velocity limit\"]  #[현재속도, 목표속도, 제한속도]\n",
        "v = float(input(\"현재속도: \"))\n",
        "tv = float(input(\"목표속도: \"))\n",
        "vl = float(input(\"제한속도: \"))\n",
        "\n",
        "if v > tv:\n",
        "    print(\"감속모드\")\n",
        "elif v >= tv:\n",
        "    print(\"속도유지\")\n",
        "elif v >= vl:\n",
        "    print(\"감속모드\")\n",
        "else:\n",
        "    print(\"가속모드\")\n",
        "print()"
      ],
      "metadata": {
        "colab": {
          "base_uri": "https://localhost:8080/"
        },
        "id": "HFXN2Ikk5dU7",
        "outputId": "a5b4a63d-540b-4716-8d6d-de6d9abd7ebd"
      },
      "execution_count": null,
      "outputs": [
        {
          "output_type": "stream",
          "name": "stdout",
          "text": [
            "현재속도: 120\n",
            "목표속도: 150\n",
            "제한속도: 80\n",
            "감속모드\n",
            "\n"
          ]
        }
      ]
    },
    {
      "cell_type": "code",
      "source": [
        "fruits = [\"사과\",\"오렌지\",\"딸기\"]\n",
        "n = len(fruits)\n",
        "print(f\"과일이 {n}가지 있습니다.\")\n",
        "print\n",
        "for fruit in fruits:\n",
        "    print(fruit)"
      ],
      "metadata": {
        "id": "qlJcO0EmF7Vr",
        "outputId": "63df2189-9827-4942-ad8d-ffcc17ee4ad3",
        "colab": {
          "base_uri": "https://localhost:8080/"
        }
      },
      "execution_count": 12,
      "outputs": [
        {
          "output_type": "stream",
          "name": "stdout",
          "text": [
            "과일이 3가지 있습니다.\n",
            "사과\n",
            "오렌지\n",
            "딸기\n"
          ]
        }
      ]
    },
    {
      "cell_type": "code",
      "source": [
        "#주행 모드 변수 (Driving Modes)\n",
        "driving_mode = [\"NORMAL\", \"PARKING\", \"EMERGENCY\"]\n",
        "dm= float(input(\"주행모드를 입력하세요: \"))\n",
        "\n",
        "if dm == 0:\n",
        "    print(\"NORMAL\")\n",
        "elif dm == 1:\n",
        "    print(\"PARKING\")\n",
        "else:\n",
        "    print(\"EMERGENCY\")\n",
        "print()\n"
      ],
      "metadata": {
        "colab": {
          "base_uri": "https://localhost:8080/"
        },
        "id": "mWruT0hE6ztc",
        "outputId": "769eb39b-160a-47a9-98b1-c738b9deee0b"
      },
      "execution_count": null,
      "outputs": [
        {
          "output_type": "stream",
          "name": "stdout",
          "text": [
            "주행모드를 입력하세요: 0\n",
            "NORMAL\n",
            "\n"
          ]
        }
      ]
    },
    {
      "cell_type": "code",
      "source": [
        "#환경 변수 (Environment)\n",
        "environment = [\"weather_condition\", \"road_condition\", \"visibility\"] # 날씨, 도로상태, 가시거리\n",
        "weather_condition =  float(input(\"날씨상태:  \")) # 날씨 상태\n",
        "visibility = float(input(\"가시거리:  \"))  # 가시거리\n",
        "\n",
        "if weather_condition == 0:\n",
        "    print(\"맑음\")\n",
        "elif weather_condition == 1:\n",
        "    print(\"흐림\")\n",
        "elif weather_condition == 2:\n",
        "    print(\"비\")\n",
        "elif weather_condition == 3:\n",
        "    print(\"눈\")\n",
        "else:\n",
        "  print(\"알 수 없는 날씨 상태입니다. 주의하세요!\")\n",
        "\n",
        "if weather_condition in (0,1):\n",
        "    print(\"도로안전\")\n",
        "else:\n",
        "    print(\"도로 미끄러움\")\n",
        "\n",
        "if visibility >= 50:\n",
        "    print(\"정상주행\")\n",
        "else:\n",
        "    print(\"서행모드\")"
      ],
      "metadata": {
        "colab": {
          "base_uri": "https://localhost:8080/"
        },
        "id": "9nK_XLEL8dbi",
        "outputId": "d7e0326f-04a0-42d0-95fc-d2455b049bcb"
      },
      "execution_count": null,
      "outputs": [
        {
          "output_type": "stream",
          "name": "stdout",
          "text": [
            "날씨상태:  0\n",
            "가시거리:  80\n",
            "맑음\n",
            "도로안전\n",
            "정상주행\n"
          ]
        }
      ]
    }
  ]
}